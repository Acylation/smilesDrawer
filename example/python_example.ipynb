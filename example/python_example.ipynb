{
 "cells": [
  {
   "cell_type": "markdown",
   "metadata": {},
   "source": [
    "# An example of how to use smilesDrawer to render a molecule in a Jupyter Notebook"
   ]
  },
  {
   "cell_type": "code",
   "execution_count": 19,
   "metadata": {},
   "outputs": [],
   "source": [
    "from IPython.display import IFrame\n",
    "import urllib"
   ]
  },
  {
   "cell_type": "code",
   "execution_count": 36,
   "metadata": {},
   "outputs": [],
   "source": [
    "def compound_html(s):\n",
    "    html = f\"\"\"\n",
    "    <!DOCTYPE html>\n",
    "    <meta charset=\"utf-8\">\n",
    "\n",
    "    <script src=\"https://unpkg.com/smiles-drawer@1.0.10/dist/smiles-drawer.min.js\"></script>\n",
    "\n",
    "    <body style=\"background-color:#FFFFFF;\">\n",
    "\n",
    "    <canvas id=\"output-canvas\"></canvas>\n",
    "    </body>\n",
    "    \n",
    "    <script>\n",
    "    let smilesDrawer = new SmilesDrawer.Drawer({{ width: 250, height: 250 }});\n",
    "\n",
    "    SmilesDrawer.parse('{s}', function (tree) {{\n",
    "        smilesDrawer.draw(tree, 'output-canvas', 'light', false);\n",
    "        }}, function (err) {{\n",
    "        console.log(err);\n",
    "    }})\n",
    "    console.log(\"HI\")\n",
    "    </script>\n",
    "    \"\"\"\n",
    "    \n",
    "    return html\n",
    "\n",
    "def render_compound(s):\n",
    "    html = compound_html(s)\n",
    "    data_url = 'data:text/html,' + urllib.parse.quote(html, safe='')\n",
    "    return IFrame(data_url, width=250, height=250)\n",
    "    "
   ]
  }
 ],
 "metadata": {
  "interpreter": {
   "hash": "31f2aee4e71d21fbe5cf8b01ff0e069b9275f58929596ceb00d14d90e3e16cd6"
  },
  "kernelspec": {
   "display_name": "Python 3",
   "language": "python",
   "name": "python3"
  },
  "language_info": {
   "codemirror_mode": {
    "name": "ipython",
    "version": 3
   },
   "file_extension": ".py",
   "mimetype": "text/x-python",
   "name": "python",
   "nbconvert_exporter": "python",
   "pygments_lexer": "ipython3",
   "version": "3.8.8"
  }
 },
 "nbformat": 4,
 "nbformat_minor": 2
}
